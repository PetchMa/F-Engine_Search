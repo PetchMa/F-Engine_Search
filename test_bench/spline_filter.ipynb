{
 "cells": [
  {
   "cell_type": "code",
   "execution_count": 2,
   "metadata": {},
   "outputs": [],
   "source": [
    "import sys\n",
    "sys.path.insert(1, '../GBT_pipeline')\n",
    "from synthetic_real import create_true, create_full_cadence, create_false, create_true_single_shot, create_true_faster\n",
    "import matplotlib.pyplot as plt\n",
    "import numpy as np \n",
    "from single_search import search\n",
    "from execute_model import model_load\n",
    "import tensorflow as tf\n",
    "from numba import njit, jit, prange\n"
   ]
  },
  {
   "cell_type": "code",
   "execution_count": 4,
   "metadata": {},
   "outputs": [
    {
     "name": "stdout",
     "output_type": "stream",
     "text": [
      "Loading in plate\n",
      "Creating False\n",
      "Creating True\n",
      "Creating Single Shot True\n"
     ]
    }
   ],
   "source": [
    "NUM_SAMPLES = 10\n",
    "factor =1\n",
    "\n",
    "print(\"Loading in plate\")\n",
    "plate = np.load('../../real_filtered.npy')\n",
    "print(\"Creating False\")\n",
    "\n",
    "false_data = create_full_cadence(create_false, plate = plate, samples = NUM_SAMPLES, snr_base=5, snr_range=20)\n",
    "print(\"Creating True\")\n",
    "\n",
    "true_data = create_full_cadence(create_true_faster, plate = plate, samples = NUM_SAMPLES, snr_base=5, snr_range=20, factor=factor)\n",
    "print(\"Creating Single Shot True\")\n",
    "\n",
    "true_single_shot = create_full_cadence(create_true_single_shot, plate = plate, samples = NUM_SAMPLES, snr_base=5, snr_range=20,factor=factor)"
   ]
  },
  {
   "cell_type": "code",
   "execution_count": 22,
   "metadata": {},
   "outputs": [],
   "source": [
    "def average(y1,y2):\n",
    "    slope = (y2-y1)/256\n",
    "    tot = []\n",
    "    for x in range(256):\n",
    "        tot.append(x*slope+y1)\n",
    "    return  tot\n",
    "        "
   ]
  },
  {
   "cell_type": "code",
   "execution_count": 51,
   "metadata": {},
   "outputs": [
    {
     "name": "stdout",
     "output_type": "stream",
     "text": [
      "1.0000000000000002\n"
     ]
    }
   ],
   "source": [
    "%matplotlib inline\n",
    "samples = 1000\n",
    "true_single_shot = create_full_cadence(create_true_single_shot, plate = plate, samples = samples, \n",
    "                                       snr_base=500, snr_range=20,factor=factor)\n",
    "\n",
    "result = []\n",
    "for i in range(samples):\n",
    "    spec = np.sum(true_single_shot[i,0,:,:], axis=0)\n",
    "    x = np.arange(256)\n",
    "    z = np.polyfit(x, spec, deg=1)\n",
    "    p = np.poly1d(z)\n",
    "    chan_fit = p(x)\n",
    "#     print(chan_fit.shape)\n",
    "    expec = np.mean(chan_fit)\n",
    "    real = np.mean(spec)\n",
    "    result.append(real/expec)\n",
    "#     print(real/expec)\n",
    "    \n",
    "#     plt.figure(figsize=(10,4))\n",
    "#     plt.xlabel(\"Fchans\")\n",
    "#     plt.ylabel(\"Count\")\n",
    "#     plt.plot(x,spec,x,chan_fit )\n",
    "#     plt.show()\n",
    "print(np.mean(result))"
   ]
  },
  {
   "cell_type": "code",
   "execution_count": 47,
   "metadata": {},
   "outputs": [
    {
     "data": {
      "text/plain": [
       "[<matplotlib.lines.Line2D at 0x7f40d8257320>]"
      ]
     },
     "execution_count": 47,
     "metadata": {},
     "output_type": "execute_result"
    },
    {
     "data": {
      "image/png": "[encoded data removed]",
      "text/plain": [
       "<Figure size 432x288 with 1 Axes>"
      ]
     },
     "metadata": {
      "needs_background": "light"
     },
     "output_type": "display_data"
    }
   ],
   "source": [
    "plt.plot(result)"
   ]
  },
  {
   "cell_type": "code",
   "execution_count": 52,
   "metadata": {},
   "outputs": [
    {
     "name": "stdout",
     "output_type": "stream",
     "text": [
      "0.0\n"
     ]
    }
   ],
   "source": [
    "stuff = [0,0,0,0,5,0]\n",
    "stuff2 = [1,1,1,1,1,0]\n",
    "print(np.mean(stuff)-np.mean(stuff2))"
   ]
  }
 ],
 "metadata": {
  "kernelspec": {
   "display_name": "Python 3",
   "language": "python",
   "name": "python3"
  },
  "language_info": {
   "codemirror_mode": {
    "name": "ipython",
    "version": 3
   },
   "file_extension": ".py",
   "mimetype": "text/x-python",
   "name": "python",
   "nbconvert_exporter": "python",
   "pygments_lexer": "ipython3",
   "version": "3.6.9"
  }
 },
 "nbformat": 4,
 "nbformat_minor": 4
}
